{
 "cells": [
  {
   "cell_type": "code",
   "execution_count": null,
   "id": "72a8b47c",
   "metadata": {},
   "outputs": [],
   "source": []
  },
  {
   "cell_type": "code",
   "execution_count": null,
   "id": "23040a70",
   "metadata": {},
   "outputs": [],
   "source": []
  },
  {
   "cell_type": "code",
   "execution_count": null,
   "id": "f1d4cc9a",
   "metadata": {},
   "outputs": [],
   "source": []
  },
  {
   "cell_type": "code",
   "execution_count": null,
   "id": "7d576cf8",
   "metadata": {},
   "outputs": [],
   "source": []
  },
  {
   "cell_type": "code",
   "execution_count": null,
   "id": "a50f0ff4",
   "metadata": {},
   "outputs": [],
   "source": []
  },
  {
   "cell_type": "code",
   "execution_count": null,
   "id": "4ec1331a",
   "metadata": {},
   "outputs": [],
   "source": [
    "import matplotlib\n",
    "import matplotlib.pyplot as plt\n",
    "import numpy as np\n",
    "import math\n",
    "\n",
    "N =2000\n",
    "x = np.arange(N)+1 \n",
    "plt.figure(figsize=(20,30))\n",
    "plt.suptitle (\"Equilibrizzazione Gibbs - Energia\", fontsize =30)\n",
    "folders_name = [\"0.5\", \"0.6\", \"0.7\", \"0.8\", \"0.9\", \"1.0\", \n",
    "                \"1.1\", \"1.2\", \"1.3\", \"1.4\", \"1.5\", \"1.6\", \"1.7\", \"1.8\", \"1.9\", \"2.0\"]\n",
    "\n",
    "for z in range (16) : #sui 4 file per ogni T\n",
    "    average = np.loadtxt(\"ISING_1D/output/\"+folders_name[z]+\"/output.ene.out\", \n",
    "                                usecols = (2), delimiter=' ', unpack = True)\n",
    "    plt.subplot (8, 2, z+1)\n",
    "    plt.grid(True)\n",
    "    plt.plot(x, average, label= \"T=\"+folders_name[z])\n",
    "    plt.ylabel(\"U/N\", fontsize = 15)\n",
    "    plt.xlabel('Step number', fontsize = 15)\n",
    "    plt.legend(fontsize='15', loc='upper right')\n",
    "    #plt.title(\"Total Energy per particle\", fontweight='bold', fontsize = 20)\n",
    "\n",
    "plt.show()"
   ]
  },
  {
   "cell_type": "code",
   "execution_count": null,
   "id": "c7920028",
   "metadata": {},
   "outputs": [],
   "source": []
  },
  {
   "cell_type": "code",
   "execution_count": null,
   "id": "9b2a3179",
   "metadata": {},
   "outputs": [],
   "source": []
  },
  {
   "cell_type": "code",
   "execution_count": null,
   "id": "a97890b1",
   "metadata": {},
   "outputs": [],
   "source": [
    "import matplotlib\n",
    "import matplotlib.pyplot as plt\n",
    "import numpy as np\n",
    "import math\n",
    "\n",
    "N =2000\n",
    "x = np.arange(N)+1 \n",
    "plt.figure(figsize=(20,20))\n",
    "colors = ['red', 'green', 'blue', 'purple']\n",
    "folders_name = [\"0.5\", \"1.0\", \"1.5\", \"2.0\"]\n",
    "\n",
    "for i in range (4) : #sui 4 file per ogni T\n",
    "    average = np.loadtxt(\"ISING_1D/Equilibrio/Gibbs/\"+folders_name[i]+\"/output.ene.out\", \n",
    "                                usecols = (2), delimiter=' ', unpack = True)\n",
    "    plt.subplot (2, 2, i+1)\n",
    "    plt.grid(True)\n",
    "    plt.plot(x, average, color = colors[i], label= \"T=\"+folders_name[i])\n",
    "    plt.ylabel(\"U/N\", fontsize = 15)\n",
    "    plt.xlabel('Step number', fontsize = 15)\n",
    "    plt.legend()\n",
    "    plt.title(\"Total Energy per particle\", fontweight='bold', fontsize = 20)\n",
    "        \n",
    "plt.suptitle (\"Equilibrizzazione Gibbs - Energia\", fontsize =30)\n",
    "plt.show()"
   ]
  },
  {
   "cell_type": "code",
   "execution_count": null,
   "id": "3e9405e9",
   "metadata": {},
   "outputs": [],
   "source": []
  },
  {
   "cell_type": "code",
   "execution_count": null,
   "id": "de30db43",
   "metadata": {},
   "outputs": [],
   "source": []
  }
 ],
 "metadata": {
  "kernelspec": {
   "display_name": "Python 3 (ipykernel)",
   "language": "python",
   "name": "python3"
  },
  "language_info": {
   "codemirror_mode": {
    "name": "ipython",
    "version": 3
   },
   "file_extension": ".py",
   "mimetype": "text/x-python",
   "name": "python",
   "nbconvert_exporter": "python",
   "pygments_lexer": "ipython3",
   "version": "3.9.13"
  }
 },
 "nbformat": 4,
 "nbformat_minor": 5
}
