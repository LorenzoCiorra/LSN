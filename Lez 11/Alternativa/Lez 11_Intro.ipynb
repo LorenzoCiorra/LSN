{
 "cells": [
  {
   "cell_type": "markdown",
   "id": "d64b19fe",
   "metadata": {},
   "source": [
    "# Esercitazione 11"
   ]
  },
  {
   "cell_type": "markdown",
   "id": "1c0881e7",
   "metadata": {},
   "source": [
    "In questa esercitazione vogliamo approcciare il machine learning, in particolare le feed-forward neural networks per apprendimento supervisionato, per eseguire regressioni di funzioni di diversa tipologia sporcate con rumori gaussiani e comprendere quanto l'abilita' di eseguire buoni fit dipenda dalla struttura della rete neurale."
   ]
  },
  {
   "cell_type": "markdown",
   "id": "38879c45",
   "metadata": {},
   "source": [
    "### Il problema della Predizione"
   ]
  },
  {
   "cell_type": "markdown",
   "id": "183e541c",
   "metadata": {},
   "source": [
    "Consideriamo un processo probabilistico che produce dati classificati $(x,y)$,  generati campionando la equazione:\n",
    "\n",
    "$$y_i= f(x_i) + \\eta_i,$$\n",
    "\n",
    "dove $f(x_i)$ e' una funzione fissata, e alle volte sconosciuta, mentre $\\eta_i$ e' un rumore stocastico a media nulla di tipo gaussiano e scorrelato da un punto all'altro cioe' tale che:\n",
    "\n",
    "$$\\langle \\eta_i \\rangle=0 \\quad \\langle \\eta_i \\eta_j \\rangle = \\delta_{ij} \\sigma$$\n",
    "\n",
    "Introduciamo questo rumore per rendere il nostro studio il piu' vicino possibile a cio che' succede quando si hanno dati reali, ad esempio prodotti da una misura, e apprezzare la potenza delle reti neurali.\n",
    "\n",
    "Per fare delle predizioni sull'andamento di $f(x)$, consideriamo un network neurale in dipendenza dei sui parametri di lavoro, pesi e bias, e di costruzione, neuroni e layer che dovremo andare a gestire durante l'esercitazione.\n",
    "\n",
    "La rete neurale, per andare a trovare i parametri che meglio predicono la funzione desiderata, dovra' essere allenata su un set di dati di training e, in seguito, si testera' la bonta dell'ottimizzazione su un diverso dataset, indipendente dal primo e che la rete non ha mai visto, il set di validazione. Tendenzialmente il 90% dei dati di un esperimento vengo forniti come training set e il 10% rimanente come validation set. \\\n",
    "La ragione per cui dobbiamo dividere i nostri dati in due set e' proprio il cuore del machine learning e in particolare delle reti neurali per apprendimento supervisionato: produrre predizioni accurate rispetto nuovi dati mai visti.\n",
    "\n",
    "Per valutare l'abilita' della rete nel predire nuovi dati, ossia le ordinate della funzione che vogliamo ricostruire, compareremo un set di y estratte a seguito del training e della validazione $\\{y_j^\\mathrm{pred}\\}$ con le ordinate effettive della funzione. "
   ]
  },
  {
   "cell_type": "markdown",
   "id": "4a85fae7",
   "metadata": {},
   "source": [
    "\n",
    "Per dare una overview su processi di regressione man mano piu' complessi attraverso reti neurali e valutare la loro potenza predittiva, l'esercitazione si compone di tre parti:\n",
    "\n",
    "- fit lineare di $f(x)=2x+1$ svolto nell'[esercizio 11.1](Lez11_1.ipynb);\n",
    "- fit di un polinomio di terzo grado $g(x)=4-3x-2x^2+3x^3$ svolto nell'[esercizio 11.2](Lez11_2.ipynb);\n",
    "- fit di una funzione trigonometrica in 2D $h(x)=\\sin(x^2+y^2)$ nell'[esercizio 11.3](Lez11_3.ipynb)."
   ]
  }
 ],
 "metadata": {
  "kernelspec": {
   "display_name": "Python 3 (ipykernel)",
   "language": "python",
   "name": "python3"
  },
  "language_info": {
   "codemirror_mode": {
    "name": "ipython",
    "version": 3
   },
   "file_extension": ".py",
   "mimetype": "text/x-python",
   "name": "python",
   "nbconvert_exporter": "python",
   "pygments_lexer": "ipython3",
   "version": "3.10.9"
  }
 },
 "nbformat": 4,
 "nbformat_minor": 5
}
